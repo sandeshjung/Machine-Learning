{
 "cells": [
  {
   "cell_type": "code",
   "execution_count": 5,
   "id": "144a04ed",
   "metadata": {},
   "outputs": [],
   "source": [
    "import numpy as np"
   ]
  },
  {
   "cell_type": "code",
   "execution_count": 6,
   "id": "060a7a0f",
   "metadata": {},
   "outputs": [],
   "source": [
    "def k_means(data, k, threshhold=2):\n",
    "    n = np.size(data, 0)\n",
    "    # random initial assignment of clusters\n",
    "    cluster_centers = np.random.choice(range(0, n), k)\n",
    "    clustering = np.random.randint(0, k, n)\n",
    "    cluster_means = data[cluster_centers]\n",
    "    old_clustering = np.zeros(n)\n",
    "    # while the clustering has not converged ... \n",
    "    while np.sum(clustering != old_clustering) > threshhold:\n",
    "        # print np.sum(clustering != old_clustering)\n",
    "        old_clustering = clustering\n",
    "\n",
    "        # step 1: Assign points to clusters\n",
    "        cluster_distances = np.zeros((n, k))\n",
    "        for cluster in range(k):\n",
    "            cluster_distances[:, cluster] = np.sum(np.sqrt((data - cluster_means[cluster])**2), 1)\n",
    "        clustering = np.argmin(cluster_distances, 1)\n",
    "\n",
    "        # step 2: re-calculating means\n",
    "        # cluster_means should be a k x d array\n",
    "        cluster_means = np.array([np.mean(data[clustering==c],0) for c in range(k)])\n",
    "    return clustering"
   ]
  },
  {
   "cell_type": "code",
   "execution_count": 7,
   "id": "818e6fd5",
   "metadata": {},
   "outputs": [],
   "source": [
    "def k_means_update(point, k, cluster_means, cluster_counts):\n",
    "    cluster_distances = np.zeros(k)\n",
    "    for cluster in range(k):\n",
    "        cluster_distances[cluster] = sum(np.sqrt((point - cluster_means[cluster])**2))\n",
    "    c = np.argmin(cluster_distances)\n",
    "    cluster_counts[c] += 1\n",
    "    cluster_means[c] += 1.0/cluster_counts[c]*(point - cluster_means[c])\n",
    "    return c"
   ]
  }
 ],
 "metadata": {
  "kernelspec": {
   "display_name": "Python 3 (ipykernel)",
   "language": "python",
   "name": "python3"
  },
  "language_info": {
   "codemirror_mode": {
    "name": "ipython",
    "version": 3
   },
   "file_extension": ".py",
   "mimetype": "text/x-python",
   "name": "python",
   "nbconvert_exporter": "python",
   "pygments_lexer": "ipython3",
   "version": "3.9.12"
  }
 },
 "nbformat": 4,
 "nbformat_minor": 5
}
